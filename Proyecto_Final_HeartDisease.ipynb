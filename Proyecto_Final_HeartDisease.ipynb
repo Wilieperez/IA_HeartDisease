{
  "nbformat": 4,
  "nbformat_minor": 0,
  "metadata": {
    "colab": {
      "provenance": [],
      "authorship_tag": "ABX9TyP1+RurLyITk+h362CKnERt",
      "include_colab_link": true
    },
    "kernelspec": {
      "name": "python3",
      "display_name": "Python 3"
    },
    "language_info": {
      "name": "python"
    }
  },
  "cells": [
    {
      "cell_type": "markdown",
      "metadata": {
        "id": "view-in-github",
        "colab_type": "text"
      },
      "source": [
        "<a href=\"https://colab.research.google.com/github/Wilieperez/IA_HeartDisease/blob/main/Proyecto_Final_HeartDisease.ipynb\" target=\"_parent\"><img src=\"https://colab.research.google.com/assets/colab-badge.svg\" alt=\"Open In Colab\"/></a>"
      ]
    },
    {
      "cell_type": "markdown",
      "source": [
        "# Artificial Neural Network\n",
        "Para calcular si hay riesgo de enfermedades cardiacas"
      ],
      "metadata": {
        "id": "zMGt66TzFbHN"
      }
    },
    {
      "cell_type": "markdown",
      "source": [
        "## Import Libraries"
      ],
      "metadata": {
        "id": "38CGGwVMFjuQ"
      }
    },
    {
      "cell_type": "code",
      "execution_count": 131,
      "metadata": {
        "id": "oQH_i-w0FPqY"
      },
      "outputs": [],
      "source": [
        "import numpy as np\n",
        "import pandas as pd\n",
        "import tensorflow as tf"
      ]
    },
    {
      "cell_type": "markdown",
      "source": [
        "# Part 1. Data Processing"
      ],
      "metadata": {
        "id": "0BgdTSYMFvyL"
      }
    },
    {
      "cell_type": "markdown",
      "source": [
        "## Import Database"
      ],
      "metadata": {
        "id": "H2_Y0aSDF6j4"
      }
    },
    {
      "cell_type": "code",
      "source": [
        "dataset = pd.read_csv('HeartEdited.csv')\n",
        "X = dataset.iloc[:, :-1].values\n",
        "Y = dataset.iloc[:, -1].values"
      ],
      "metadata": {
        "id": "Z8KH3PqgGCCB"
      },
      "execution_count": 132,
      "outputs": []
    },
    {
      "cell_type": "markdown",
      "source": [
        "## Encode Values"
      ],
      "metadata": {
        "id": "KfUgfVZGHAXA"
      }
    },
    {
      "cell_type": "code",
      "source": [
        "from sklearn.preprocessing import LabelEncoder\n",
        "\n",
        "le = LabelEncoder()\n",
        "X[:, 1] = le.fit_transform(X[:, 1])\n",
        "X[:, 2] = le.fit_transform(X[:, 2])\n",
        "X[:, 6] = le.fit_transform(X[:, 6])\n",
        "X[:, 8] = le.fit_transform(X[:, 8])\n",
        "X[:, 10] = le.fit_transform(X[:, 10])\n",
        "\n",
        "print(X[0])"
      ],
      "metadata": {
        "colab": {
          "base_uri": "https://localhost:8080/"
        },
        "id": "C6KCAb9oHFrp",
        "outputId": "9631d596-cf27-446e-ce57-ca6a80c1b6bd"
      },
      "execution_count": 133,
      "outputs": [
        {
          "output_type": "stream",
          "name": "stdout",
          "text": [
            "[56 1 0 120 85 0 1 140 0 0.0 2]\n"
          ]
        }
      ]
    },
    {
      "cell_type": "markdown",
      "source": [
        "## Separate into training and testing variables"
      ],
      "metadata": {
        "id": "B1EfHmjqH9FA"
      }
    },
    {
      "cell_type": "code",
      "source": [
        "from sklearn.model_selection import train_test_split\n",
        "\n",
        "X_train, X_test, Y_train, Y_test = train_test_split(X,Y,test_size=0.2, random_state=0)"
      ],
      "metadata": {
        "id": "l9ecHwvuIBiV"
      },
      "execution_count": 134,
      "outputs": []
    },
    {
      "cell_type": "markdown",
      "source": [
        "## Feature Scaling"
      ],
      "metadata": {
        "id": "PRNI16SYP14i"
      }
    },
    {
      "cell_type": "code",
      "source": [
        "from sklearn.preprocessing import StandardScaler\n",
        "sc = StandardScaler()\n",
        "X_train = sc.fit_transform(X_train)\n",
        "X_test = sc.fit_transform(X_test)"
      ],
      "metadata": {
        "id": "PbMma2tsP4Be"
      },
      "execution_count": 135,
      "outputs": []
    },
    {
      "cell_type": "markdown",
      "source": [
        "# Part 2. Create the Artificial Neural Network"
      ],
      "metadata": {
        "id": "XznvExnuIbdp"
      }
    },
    {
      "cell_type": "markdown",
      "source": [
        "## Initialize the ANN"
      ],
      "metadata": {
        "id": "-s-3BGIIIh22"
      }
    },
    {
      "cell_type": "code",
      "source": [
        "ann = tf.keras.models.Sequential()"
      ],
      "metadata": {
        "id": "t05CEClJLXGb"
      },
      "execution_count": 136,
      "outputs": []
    },
    {
      "cell_type": "markdown",
      "source": [
        "## Add Input Layer and First Hidden Layer"
      ],
      "metadata": {
        "id": "oSwmziolLzT3"
      }
    },
    {
      "cell_type": "code",
      "source": [
        "ann.add(tf.keras.layers.Dense(units = 32, activation = 'relu'))"
      ],
      "metadata": {
        "id": "RN_lkJTZL6Ej"
      },
      "execution_count": 137,
      "outputs": []
    },
    {
      "cell_type": "markdown",
      "source": [
        "## Add Second Hidden Layer"
      ],
      "metadata": {
        "id": "Qft8td-PMmsc"
      }
    },
    {
      "cell_type": "code",
      "source": [
        "ann.add(tf.keras.layers.Dense(units = 32, activation = 'relu'))"
      ],
      "metadata": {
        "id": "3JsXL4_vMpwB"
      },
      "execution_count": 138,
      "outputs": []
    },
    {
      "cell_type": "markdown",
      "source": [
        "## Add Output Layer"
      ],
      "metadata": {
        "id": "Gj1KqSrKM4CE"
      }
    },
    {
      "cell_type": "code",
      "source": [
        "ann.add(tf.keras.layers.Dense(units = 1, activation = 'sigmoid'))"
      ],
      "metadata": {
        "id": "bTr27rMaM6WN"
      },
      "execution_count": 139,
      "outputs": []
    },
    {
      "cell_type": "markdown",
      "source": [
        "# Part 3. ANN Training"
      ],
      "metadata": {
        "id": "bR2hW1VbNWcP"
      }
    },
    {
      "cell_type": "markdown",
      "source": [
        "## ANN Compilation"
      ],
      "metadata": {
        "id": "q0sF5HYrNqku"
      }
    },
    {
      "cell_type": "code",
      "source": [
        "ann.compile(optimizer = 'adam', loss = 'mean_squared_error', metrics = ['accuracy'])"
      ],
      "metadata": {
        "id": "M7YeAkI6NvG6"
      },
      "execution_count": 140,
      "outputs": []
    },
    {
      "cell_type": "markdown",
      "source": [
        "## Training the ANN Model with The Database"
      ],
      "metadata": {
        "id": "GleCAU_mO3C8"
      }
    },
    {
      "cell_type": "code",
      "source": [
        "ann.fit(X_train, Y_train, batch_size = 32, epochs = 50)"
      ],
      "metadata": {
        "colab": {
          "base_uri": "https://localhost:8080/"
        },
        "id": "7_8SPSjvPDp5",
        "outputId": "88adb53e-8d41-4686-8641-c51a73d34a07"
      },
      "execution_count": 141,
      "outputs": [
        {
          "output_type": "stream",
          "name": "stdout",
          "text": [
            "Epoch 1/50\n",
            "19/19 [==============================] - 1s 2ms/step - loss: 0.2103 - accuracy: 0.6997\n",
            "Epoch 2/50\n",
            "19/19 [==============================] - 0s 2ms/step - loss: 0.1662 - accuracy: 0.8054\n",
            "Epoch 3/50\n",
            "19/19 [==============================] - 0s 2ms/step - loss: 0.1438 - accuracy: 0.8272\n",
            "Epoch 4/50\n",
            "19/19 [==============================] - 0s 2ms/step - loss: 0.1309 - accuracy: 0.8423\n",
            "Epoch 5/50\n",
            "19/19 [==============================] - 0s 2ms/step - loss: 0.1234 - accuracy: 0.8490\n",
            "Epoch 6/50\n",
            "19/19 [==============================] - 0s 2ms/step - loss: 0.1175 - accuracy: 0.8523\n",
            "Epoch 7/50\n",
            "19/19 [==============================] - 0s 2ms/step - loss: 0.1133 - accuracy: 0.8540\n",
            "Epoch 8/50\n",
            "19/19 [==============================] - 0s 2ms/step - loss: 0.1096 - accuracy: 0.8540\n",
            "Epoch 9/50\n",
            "19/19 [==============================] - 0s 2ms/step - loss: 0.1067 - accuracy: 0.8591\n",
            "Epoch 10/50\n",
            "19/19 [==============================] - 0s 2ms/step - loss: 0.1037 - accuracy: 0.8624\n",
            "Epoch 11/50\n",
            "19/19 [==============================] - 0s 2ms/step - loss: 0.1016 - accuracy: 0.8674\n",
            "Epoch 12/50\n",
            "19/19 [==============================] - 0s 2ms/step - loss: 0.0994 - accuracy: 0.8742\n",
            "Epoch 13/50\n",
            "19/19 [==============================] - 0s 2ms/step - loss: 0.0975 - accuracy: 0.8758\n",
            "Epoch 14/50\n",
            "19/19 [==============================] - 0s 2ms/step - loss: 0.0954 - accuracy: 0.8758\n",
            "Epoch 15/50\n",
            "19/19 [==============================] - 0s 2ms/step - loss: 0.0937 - accuracy: 0.8742\n",
            "Epoch 16/50\n",
            "19/19 [==============================] - 0s 2ms/step - loss: 0.0923 - accuracy: 0.8775\n",
            "Epoch 17/50\n",
            "19/19 [==============================] - 0s 2ms/step - loss: 0.0913 - accuracy: 0.8792\n",
            "Epoch 18/50\n",
            "19/19 [==============================] - 0s 2ms/step - loss: 0.0897 - accuracy: 0.8809\n",
            "Epoch 19/50\n",
            "19/19 [==============================] - 0s 2ms/step - loss: 0.0884 - accuracy: 0.8859\n",
            "Epoch 20/50\n",
            "19/19 [==============================] - 0s 2ms/step - loss: 0.0872 - accuracy: 0.8826\n",
            "Epoch 21/50\n",
            "19/19 [==============================] - 0s 2ms/step - loss: 0.0865 - accuracy: 0.8842\n",
            "Epoch 22/50\n",
            "19/19 [==============================] - 0s 2ms/step - loss: 0.0847 - accuracy: 0.8876\n",
            "Epoch 23/50\n",
            "19/19 [==============================] - 0s 2ms/step - loss: 0.0837 - accuracy: 0.8842\n",
            "Epoch 24/50\n",
            "19/19 [==============================] - 0s 2ms/step - loss: 0.0829 - accuracy: 0.8842\n",
            "Epoch 25/50\n",
            "19/19 [==============================] - 0s 2ms/step - loss: 0.0816 - accuracy: 0.8876\n",
            "Epoch 26/50\n",
            "19/19 [==============================] - 0s 2ms/step - loss: 0.0807 - accuracy: 0.8859\n",
            "Epoch 27/50\n",
            "19/19 [==============================] - 0s 2ms/step - loss: 0.0797 - accuracy: 0.8876\n",
            "Epoch 28/50\n",
            "19/19 [==============================] - 0s 2ms/step - loss: 0.0791 - accuracy: 0.8926\n",
            "Epoch 29/50\n",
            "19/19 [==============================] - 0s 3ms/step - loss: 0.0780 - accuracy: 0.8909\n",
            "Epoch 30/50\n",
            "19/19 [==============================] - 0s 2ms/step - loss: 0.0770 - accuracy: 0.8909\n",
            "Epoch 31/50\n",
            "19/19 [==============================] - 0s 2ms/step - loss: 0.0761 - accuracy: 0.8943\n",
            "Epoch 32/50\n",
            "19/19 [==============================] - 0s 2ms/step - loss: 0.0753 - accuracy: 0.8960\n",
            "Epoch 33/50\n",
            "19/19 [==============================] - 0s 2ms/step - loss: 0.0750 - accuracy: 0.8993\n",
            "Epoch 34/50\n",
            "19/19 [==============================] - 0s 2ms/step - loss: 0.0742 - accuracy: 0.9010\n",
            "Epoch 35/50\n",
            "19/19 [==============================] - 0s 2ms/step - loss: 0.0729 - accuracy: 0.9044\n",
            "Epoch 36/50\n",
            "19/19 [==============================] - 0s 2ms/step - loss: 0.0724 - accuracy: 0.9060\n",
            "Epoch 37/50\n",
            "19/19 [==============================] - 0s 2ms/step - loss: 0.0714 - accuracy: 0.9111\n",
            "Epoch 38/50\n",
            "19/19 [==============================] - 0s 2ms/step - loss: 0.0706 - accuracy: 0.9094\n",
            "Epoch 39/50\n",
            "19/19 [==============================] - 0s 2ms/step - loss: 0.0697 - accuracy: 0.9077\n",
            "Epoch 40/50\n",
            "19/19 [==============================] - 0s 2ms/step - loss: 0.0688 - accuracy: 0.9094\n",
            "Epoch 41/50\n",
            "19/19 [==============================] - 0s 2ms/step - loss: 0.0686 - accuracy: 0.9094\n",
            "Epoch 42/50\n",
            "19/19 [==============================] - 0s 2ms/step - loss: 0.0678 - accuracy: 0.9128\n",
            "Epoch 43/50\n",
            "19/19 [==============================] - 0s 2ms/step - loss: 0.0670 - accuracy: 0.9111\n",
            "Epoch 44/50\n",
            "19/19 [==============================] - 0s 2ms/step - loss: 0.0661 - accuracy: 0.9128\n",
            "Epoch 45/50\n",
            "19/19 [==============================] - 0s 2ms/step - loss: 0.0659 - accuracy: 0.9161\n",
            "Epoch 46/50\n",
            "19/19 [==============================] - 0s 2ms/step - loss: 0.0654 - accuracy: 0.9161\n",
            "Epoch 47/50\n",
            "19/19 [==============================] - 0s 2ms/step - loss: 0.0638 - accuracy: 0.9195\n",
            "Epoch 48/50\n",
            "19/19 [==============================] - 0s 2ms/step - loss: 0.0637 - accuracy: 0.9228\n",
            "Epoch 49/50\n",
            "19/19 [==============================] - 0s 2ms/step - loss: 0.0627 - accuracy: 0.9228\n",
            "Epoch 50/50\n",
            "19/19 [==============================] - 0s 2ms/step - loss: 0.0624 - accuracy: 0.9245\n"
          ]
        },
        {
          "output_type": "execute_result",
          "data": {
            "text/plain": [
              "<keras.callbacks.History at 0x7aa14857d2a0>"
            ]
          },
          "metadata": {},
          "execution_count": 141
        }
      ]
    },
    {
      "cell_type": "markdown",
      "source": [
        "## Test Prediction"
      ],
      "metadata": {
        "id": "uJg_odJrXXk0"
      }
    },
    {
      "cell_type": "code",
      "source": [
        "Y_pred = ann.predict(X_test)\n",
        "Y_pred = (Y_pred > 0.5)\n",
        "print(np.concatenate((Y_pred.reshape(len(Y_pred),1),Y_test.reshape(len(Y_test),1)),1))"
      ],
      "metadata": {
        "colab": {
          "base_uri": "https://localhost:8080/"
        },
        "id": "9RpRmZh7Xau1",
        "outputId": "fcf718f3-f48b-4381-cf8e-536c8aa63eec"
      },
      "execution_count": 142,
      "outputs": [
        {
          "output_type": "stream",
          "name": "stdout",
          "text": [
            "5/5 [==============================] - 0s 2ms/step\n",
            "[[0 0]\n",
            " [0 1]\n",
            " [0 0]\n",
            " [0 0]\n",
            " [1 1]\n",
            " [0 0]\n",
            " [1 1]\n",
            " [0 0]\n",
            " [1 1]\n",
            " [1 1]\n",
            " [0 0]\n",
            " [0 0]\n",
            " [0 0]\n",
            " [1 1]\n",
            " [0 0]\n",
            " [1 0]\n",
            " [1 0]\n",
            " [1 1]\n",
            " [1 1]\n",
            " [0 0]\n",
            " [0 0]\n",
            " [0 0]\n",
            " [1 1]\n",
            " [1 1]\n",
            " [0 0]\n",
            " [0 0]\n",
            " [0 0]\n",
            " [0 1]\n",
            " [1 1]\n",
            " [1 1]\n",
            " [0 0]\n",
            " [1 1]\n",
            " [0 0]\n",
            " [0 0]\n",
            " [0 0]\n",
            " [1 1]\n",
            " [0 0]\n",
            " [1 1]\n",
            " [0 0]\n",
            " [0 0]\n",
            " [1 0]\n",
            " [1 1]\n",
            " [0 0]\n",
            " [0 0]\n",
            " [0 0]\n",
            " [1 1]\n",
            " [0 0]\n",
            " [0 0]\n",
            " [0 0]\n",
            " [0 0]\n",
            " [0 0]\n",
            " [0 1]\n",
            " [0 0]\n",
            " [1 1]\n",
            " [1 1]\n",
            " [1 0]\n",
            " [0 0]\n",
            " [0 0]\n",
            " [1 1]\n",
            " [0 0]\n",
            " [1 1]\n",
            " [1 1]\n",
            " [0 0]\n",
            " [1 1]\n",
            " [0 0]\n",
            " [1 1]\n",
            " [0 1]\n",
            " [1 0]\n",
            " [0 0]\n",
            " [0 1]\n",
            " [0 0]\n",
            " [0 0]\n",
            " [1 1]\n",
            " [0 0]\n",
            " [0 0]\n",
            " [0 0]\n",
            " [0 1]\n",
            " [0 0]\n",
            " [0 0]\n",
            " [0 1]\n",
            " [0 0]\n",
            " [0 0]\n",
            " [1 1]\n",
            " [0 0]\n",
            " [0 0]\n",
            " [1 1]\n",
            " [0 0]\n",
            " [1 1]\n",
            " [1 1]\n",
            " [0 1]\n",
            " [0 0]\n",
            " [0 0]\n",
            " [1 1]\n",
            " [0 0]\n",
            " [1 1]\n",
            " [1 1]\n",
            " [1 1]\n",
            " [1 1]\n",
            " [1 1]\n",
            " [1 1]\n",
            " [1 1]\n",
            " [0 0]\n",
            " [1 1]\n",
            " [0 0]\n",
            " [0 0]\n",
            " [0 0]\n",
            " [0 1]\n",
            " [1 1]\n",
            " [1 1]\n",
            " [1 1]\n",
            " [1 1]\n",
            " [1 1]\n",
            " [0 0]\n",
            " [1 1]\n",
            " [0 0]\n",
            " [0 0]\n",
            " [0 0]\n",
            " [1 1]\n",
            " [1 1]\n",
            " [0 0]\n",
            " [0 1]\n",
            " [1 0]\n",
            " [0 0]\n",
            " [0 1]\n",
            " [0 0]\n",
            " [1 1]\n",
            " [1 1]\n",
            " [0 0]\n",
            " [0 0]\n",
            " [0 0]\n",
            " [1 1]\n",
            " [1 1]\n",
            " [0 0]\n",
            " [0 0]\n",
            " [1 1]\n",
            " [1 1]\n",
            " [1 1]\n",
            " [0 1]\n",
            " [0 0]\n",
            " [0 0]\n",
            " [0 0]\n",
            " [1 1]\n",
            " [0 0]\n",
            " [1 1]\n",
            " [0 0]\n",
            " [1 1]\n",
            " [1 1]\n",
            " [1 1]\n",
            " [0 0]\n",
            " [1 0]]\n"
          ]
        }
      ]
    },
    {
      "cell_type": "markdown",
      "source": [
        "## Show Confusion Matrix"
      ],
      "metadata": {
        "id": "tumjmhCTVKqY"
      }
    },
    {
      "cell_type": "code",
      "source": [
        "from sklearn.metrics import confusion_matrix, accuracy_score, ConfusionMatrixDisplay\n",
        "cm = confusion_matrix(Y_test, Y_pred)\n",
        "print(cm)\n",
        "print(accuracy_score(Y_test, Y_pred))\n",
        "cm_display = ConfusionMatrixDisplay(cm).plot()"
      ],
      "metadata": {
        "colab": {
          "base_uri": "https://localhost:8080/",
          "height": 501
        },
        "id": "aN8rzBB9VNG0",
        "outputId": "99560b9b-19bd-4704-ede2-bc283600b023"
      },
      "execution_count": 143,
      "outputs": [
        {
          "output_type": "stream",
          "name": "stdout",
          "text": [
            "[[74  7]\n",
            " [12 57]]\n",
            "0.8733333333333333\n"
          ]
        },
        {
          "output_type": "display_data",
          "data": {
            "text/plain": [
              "<Figure size 640x480 with 2 Axes>"
            ],
            "image/png": "[encoded data removed]"
          },
          "metadata": {}
        }
      ]
    }
  ]
}